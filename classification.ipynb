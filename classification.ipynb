{
 "cells": [
  {
   "cell_type": "code",
   "execution_count": 2,
   "metadata": {},
   "outputs": [],
   "source": [
    "import pandas as pd\n",
    "import numpy as np\n",
    "from sklearn. utils import resample # downsample the dataset \n",
    "from sklearn.model_selection import train_test_split # split data into training and testing sets \n",
    "from sklearn.preprocessing import scale # scale and center data \n",
    "from sklearn.svm import SVC # this will make a support vector machine for classificaiton \n",
    "from sklearn.model_selection import GridSearchCV # this will do cross validation from sklearn.metrics import confusion_matrix # this creates a confusion matrix \n",
    "from sklearn.metrics import plot_confusion_matrix # draws a confusion matrix from sklearn. decomposition import PCA # to perform PCA to plot the data"
   ]
  },
  {
   "cell_type": "code",
   "execution_count": 5,
   "metadata": {},
   "outputs": [],
   "source": [
    "ada= pd.read_parquet(\"ada.parquet\")"
   ]
  },
  {
   "cell_type": "code",
   "execution_count": 6,
   "metadata": {},
   "outputs": [
    {
     "data": {
      "text/html": [
       "<div>\n",
       "<style scoped>\n",
       "    .dataframe tbody tr th:only-of-type {\n",
       "        vertical-align: middle;\n",
       "    }\n",
       "\n",
       "    .dataframe tbody tr th {\n",
       "        vertical-align: top;\n",
       "    }\n",
       "\n",
       "    .dataframe thead th {\n",
       "        text-align: right;\n",
       "    }\n",
       "</style>\n",
       "<table border=\"1\" class=\"dataframe\">\n",
       "  <thead>\n",
       "    <tr style=\"text-align: right;\">\n",
       "      <th></th>\n",
       "      <th>Date</th>\n",
       "      <th>Open</th>\n",
       "      <th>High</th>\n",
       "      <th>Low</th>\n",
       "      <th>Close</th>\n",
       "      <th>Volume</th>\n",
       "      <th>Return</th>\n",
       "      <th>Strategy</th>\n",
       "      <th>forecast</th>\n",
       "    </tr>\n",
       "    <tr>\n",
       "      <th>Date</th>\n",
       "      <th></th>\n",
       "      <th></th>\n",
       "      <th></th>\n",
       "      <th></th>\n",
       "      <th></th>\n",
       "      <th></th>\n",
       "      <th></th>\n",
       "      <th></th>\n",
       "      <th></th>\n",
       "    </tr>\n",
       "  </thead>\n",
       "  <tbody>\n",
       "    <tr>\n",
       "      <th>2022-03-15 12:00:00</th>\n",
       "      <td>1647345600000000000</td>\n",
       "      <td>0.7900</td>\n",
       "      <td>0.8090</td>\n",
       "      <td>0.7850</td>\n",
       "      <td>0.8000</td>\n",
       "      <td>21130172.3</td>\n",
       "      <td>0.012658</td>\n",
       "      <td>Buy</td>\n",
       "      <td>0.791510</td>\n",
       "    </tr>\n",
       "    <tr>\n",
       "      <th>2022-03-15 16:00:00</th>\n",
       "      <td>1647360000000000000</td>\n",
       "      <td>0.8000</td>\n",
       "      <td>0.8150</td>\n",
       "      <td>0.7970</td>\n",
       "      <td>0.8130</td>\n",
       "      <td>19668867.7</td>\n",
       "      <td>0.016250</td>\n",
       "      <td>Sell</td>\n",
       "      <td>0.801529</td>\n",
       "    </tr>\n",
       "    <tr>\n",
       "      <th>2022-03-15 20:00:00</th>\n",
       "      <td>1647374400000000000</td>\n",
       "      <td>0.8140</td>\n",
       "      <td>0.8170</td>\n",
       "      <td>0.7980</td>\n",
       "      <td>0.8000</td>\n",
       "      <td>17780666.2</td>\n",
       "      <td>-0.015990</td>\n",
       "      <td>Buy</td>\n",
       "      <td>0.814554</td>\n",
       "    </tr>\n",
       "    <tr>\n",
       "      <th>2022-03-16 00:00:00</th>\n",
       "      <td>1647388800000000000</td>\n",
       "      <td>0.8000</td>\n",
       "      <td>0.8340</td>\n",
       "      <td>0.7920</td>\n",
       "      <td>0.8010</td>\n",
       "      <td>44665071.8</td>\n",
       "      <td>0.001250</td>\n",
       "      <td>Buy</td>\n",
       "      <td>0.801529</td>\n",
       "    </tr>\n",
       "    <tr>\n",
       "      <th>2022-03-16 04:00:00</th>\n",
       "      <td>1647403200000000000</td>\n",
       "      <td>0.8000</td>\n",
       "      <td>0.8050</td>\n",
       "      <td>0.7930</td>\n",
       "      <td>0.8020</td>\n",
       "      <td>11815189.9</td>\n",
       "      <td>0.001248</td>\n",
       "      <td>Buy</td>\n",
       "      <td>0.802531</td>\n",
       "    </tr>\n",
       "    <tr>\n",
       "      <th>...</th>\n",
       "      <td>...</td>\n",
       "      <td>...</td>\n",
       "      <td>...</td>\n",
       "      <td>...</td>\n",
       "      <td>...</td>\n",
       "      <td>...</td>\n",
       "      <td>...</td>\n",
       "      <td>...</td>\n",
       "      <td>...</td>\n",
       "    </tr>\n",
       "    <tr>\n",
       "      <th>2022-06-22 08:00:00</th>\n",
       "      <td>1655884800000000000</td>\n",
       "      <td>0.4608</td>\n",
       "      <td>0.4773</td>\n",
       "      <td>0.4582</td>\n",
       "      <td>0.4724</td>\n",
       "      <td>31698779.1</td>\n",
       "      <td>0.025174</td>\n",
       "      <td>Sell</td>\n",
       "      <td>0.461681</td>\n",
       "    </tr>\n",
       "    <tr>\n",
       "      <th>2022-06-22 12:00:00</th>\n",
       "      <td>1655899200000000000</td>\n",
       "      <td>0.4725</td>\n",
       "      <td>0.4809</td>\n",
       "      <td>0.4656</td>\n",
       "      <td>0.4674</td>\n",
       "      <td>43132479.2</td>\n",
       "      <td>-0.010584</td>\n",
       "      <td>Buy</td>\n",
       "      <td>0.473303</td>\n",
       "    </tr>\n",
       "    <tr>\n",
       "      <th>2022-06-22 16:00:00</th>\n",
       "      <td>1655913600000000000</td>\n",
       "      <td>0.4674</td>\n",
       "      <td>0.4746</td>\n",
       "      <td>0.4626</td>\n",
       "      <td>0.4675</td>\n",
       "      <td>23988821.5</td>\n",
       "      <td>0.000214</td>\n",
       "      <td>Sell</td>\n",
       "      <td>0.468294</td>\n",
       "    </tr>\n",
       "    <tr>\n",
       "      <th>2022-06-22 20:00:00</th>\n",
       "      <td>1655928000000000000</td>\n",
       "      <td>0.4674</td>\n",
       "      <td>0.4707</td>\n",
       "      <td>0.4559</td>\n",
       "      <td>0.4594</td>\n",
       "      <td>30379664.9</td>\n",
       "      <td>-0.017326</td>\n",
       "      <td>Buy</td>\n",
       "      <td>0.468394</td>\n",
       "    </tr>\n",
       "    <tr>\n",
       "      <th>2022-06-23 00:00:00</th>\n",
       "      <td>1655942400000000000</td>\n",
       "      <td>0.4594</td>\n",
       "      <td>0.4742</td>\n",
       "      <td>0.4563</td>\n",
       "      <td>0.4685</td>\n",
       "      <td>26564310.4</td>\n",
       "      <td>0.019808</td>\n",
       "      <td>Sell</td>\n",
       "      <td>0.460278</td>\n",
       "    </tr>\n",
       "  </tbody>\n",
       "</table>\n",
       "<p>598 rows × 9 columns</p>\n",
       "</div>"
      ],
      "text/plain": [
       "                                    Date    Open    High     Low   Close  \\\n",
       "Date                                                                       \n",
       "2022-03-15 12:00:00  1647345600000000000  0.7900  0.8090  0.7850  0.8000   \n",
       "2022-03-15 16:00:00  1647360000000000000  0.8000  0.8150  0.7970  0.8130   \n",
       "2022-03-15 20:00:00  1647374400000000000  0.8140  0.8170  0.7980  0.8000   \n",
       "2022-03-16 00:00:00  1647388800000000000  0.8000  0.8340  0.7920  0.8010   \n",
       "2022-03-16 04:00:00  1647403200000000000  0.8000  0.8050  0.7930  0.8020   \n",
       "...                                  ...     ...     ...     ...     ...   \n",
       "2022-06-22 08:00:00  1655884800000000000  0.4608  0.4773  0.4582  0.4724   \n",
       "2022-06-22 12:00:00  1655899200000000000  0.4725  0.4809  0.4656  0.4674   \n",
       "2022-06-22 16:00:00  1655913600000000000  0.4674  0.4746  0.4626  0.4675   \n",
       "2022-06-22 20:00:00  1655928000000000000  0.4674  0.4707  0.4559  0.4594   \n",
       "2022-06-23 00:00:00  1655942400000000000  0.4594  0.4742  0.4563  0.4685   \n",
       "\n",
       "                         Volume    Return Strategy  forecast  \n",
       "Date                                                          \n",
       "2022-03-15 12:00:00  21130172.3  0.012658      Buy  0.791510  \n",
       "2022-03-15 16:00:00  19668867.7  0.016250     Sell  0.801529  \n",
       "2022-03-15 20:00:00  17780666.2 -0.015990      Buy  0.814554  \n",
       "2022-03-16 00:00:00  44665071.8  0.001250      Buy  0.801529  \n",
       "2022-03-16 04:00:00  11815189.9  0.001248      Buy  0.802531  \n",
       "...                         ...       ...      ...       ...  \n",
       "2022-06-22 08:00:00  31698779.1  0.025174     Sell  0.461681  \n",
       "2022-06-22 12:00:00  43132479.2 -0.010584      Buy  0.473303  \n",
       "2022-06-22 16:00:00  23988821.5  0.000214     Sell  0.468294  \n",
       "2022-06-22 20:00:00  30379664.9 -0.017326      Buy  0.468394  \n",
       "2022-06-23 00:00:00  26564310.4  0.019808     Sell  0.460278  \n",
       "\n",
       "[598 rows x 9 columns]"
      ]
     },
     "execution_count": 6,
     "metadata": {},
     "output_type": "execute_result"
    }
   ],
   "source": [
    "ada"
   ]
  },
  {
   "cell_type": "code",
   "execution_count": 9,
   "metadata": {},
   "outputs": [],
   "source": [
    "ada = pd.get_dummies(ada, columns=[\"Strategy\"])"
   ]
  },
  {
   "cell_type": "code",
   "execution_count": 65,
   "metadata": {},
   "outputs": [],
   "source": [
    "y = ada[\"Strategy_Buy\"]\n",
    "x = ada[[\"Open\",\"High\", \"Low\", \"Close\", \"Volume\", \"Return\", \"forecast\"]]"
   ]
  },
  {
   "cell_type": "code",
   "execution_count": 66,
   "metadata": {},
   "outputs": [],
   "source": [
    "x_train, x_test, y_train, y_test =  train_test_split(x,y)"
   ]
  },
  {
   "cell_type": "code",
   "execution_count": 67,
   "metadata": {},
   "outputs": [],
   "source": [
    "x_train_scaled = scale(x_train)\n",
    "x_test_scaled = scale(x_test)"
   ]
  },
  {
   "cell_type": "code",
   "execution_count": 68,
   "metadata": {},
   "outputs": [
    {
     "data": {
      "text/html": [
       "<style>#sk-container-id-6 {color: black;background-color: white;}#sk-container-id-6 pre{padding: 0;}#sk-container-id-6 div.sk-toggleable {background-color: white;}#sk-container-id-6 label.sk-toggleable__label {cursor: pointer;display: block;width: 100%;margin-bottom: 0;padding: 0.3em;box-sizing: border-box;text-align: center;}#sk-container-id-6 label.sk-toggleable__label-arrow:before {content: \"▸\";float: left;margin-right: 0.25em;color: #696969;}#sk-container-id-6 label.sk-toggleable__label-arrow:hover:before {color: black;}#sk-container-id-6 div.sk-estimator:hover label.sk-toggleable__label-arrow:before {color: black;}#sk-container-id-6 div.sk-toggleable__content {max-height: 0;max-width: 0;overflow: hidden;text-align: left;background-color: #f0f8ff;}#sk-container-id-6 div.sk-toggleable__content pre {margin: 0.2em;color: black;border-radius: 0.25em;background-color: #f0f8ff;}#sk-container-id-6 input.sk-toggleable__control:checked~div.sk-toggleable__content {max-height: 200px;max-width: 100%;overflow: auto;}#sk-container-id-6 input.sk-toggleable__control:checked~label.sk-toggleable__label-arrow:before {content: \"▾\";}#sk-container-id-6 div.sk-estimator input.sk-toggleable__control:checked~label.sk-toggleable__label {background-color: #d4ebff;}#sk-container-id-6 div.sk-label input.sk-toggleable__control:checked~label.sk-toggleable__label {background-color: #d4ebff;}#sk-container-id-6 input.sk-hidden--visually {border: 0;clip: rect(1px 1px 1px 1px);clip: rect(1px, 1px, 1px, 1px);height: 1px;margin: -1px;overflow: hidden;padding: 0;position: absolute;width: 1px;}#sk-container-id-6 div.sk-estimator {font-family: monospace;background-color: #f0f8ff;border: 1px dotted black;border-radius: 0.25em;box-sizing: border-box;margin-bottom: 0.5em;}#sk-container-id-6 div.sk-estimator:hover {background-color: #d4ebff;}#sk-container-id-6 div.sk-parallel-item::after {content: \"\";width: 100%;border-bottom: 1px solid gray;flex-grow: 1;}#sk-container-id-6 div.sk-label:hover label.sk-toggleable__label {background-color: #d4ebff;}#sk-container-id-6 div.sk-serial::before {content: \"\";position: absolute;border-left: 1px solid gray;box-sizing: border-box;top: 0;bottom: 0;left: 50%;z-index: 0;}#sk-container-id-6 div.sk-serial {display: flex;flex-direction: column;align-items: center;background-color: white;padding-right: 0.2em;padding-left: 0.2em;position: relative;}#sk-container-id-6 div.sk-item {position: relative;z-index: 1;}#sk-container-id-6 div.sk-parallel {display: flex;align-items: stretch;justify-content: center;background-color: white;position: relative;}#sk-container-id-6 div.sk-item::before, #sk-container-id-6 div.sk-parallel-item::before {content: \"\";position: absolute;border-left: 1px solid gray;box-sizing: border-box;top: 0;bottom: 0;left: 50%;z-index: -1;}#sk-container-id-6 div.sk-parallel-item {display: flex;flex-direction: column;z-index: 1;position: relative;background-color: white;}#sk-container-id-6 div.sk-parallel-item:first-child::after {align-self: flex-end;width: 50%;}#sk-container-id-6 div.sk-parallel-item:last-child::after {align-self: flex-start;width: 50%;}#sk-container-id-6 div.sk-parallel-item:only-child::after {width: 0;}#sk-container-id-6 div.sk-dashed-wrapped {border: 1px dashed gray;margin: 0 0.4em 0.5em 0.4em;box-sizing: border-box;padding-bottom: 0.4em;background-color: white;}#sk-container-id-6 div.sk-label label {font-family: monospace;font-weight: bold;display: inline-block;line-height: 1.2em;}#sk-container-id-6 div.sk-label-container {text-align: center;}#sk-container-id-6 div.sk-container {/* jupyter's `normalize.less` sets `[hidden] { display: none; }` but bootstrap.min.css set `[hidden] { display: none !important; }` so we also need the `!important` here to be able to override the default hidden behavior on the sphinx rendered scikit-learn.org. See: https://github.com/scikit-learn/scikit-learn/issues/21755 */display: inline-block !important;position: relative;}#sk-container-id-6 div.sk-text-repr-fallback {display: none;}</style><div id=\"sk-container-id-6\" class=\"sk-top-container\"><div class=\"sk-text-repr-fallback\"><pre>SVC()</pre><b>In a Jupyter environment, please rerun this cell to show the HTML representation or trust the notebook. <br />On GitHub, the HTML representation is unable to render, please try loading this page with nbviewer.org.</b></div><div class=\"sk-container\" hidden><div class=\"sk-item\"><div class=\"sk-estimator sk-toggleable\"><input class=\"sk-toggleable__control sk-hidden--visually\" id=\"sk-estimator-id-6\" type=\"checkbox\" checked><label for=\"sk-estimator-id-6\" class=\"sk-toggleable__label sk-toggleable__label-arrow\">SVC</label><div class=\"sk-toggleable__content\"><pre>SVC()</pre></div></div></div></div></div>"
      ],
      "text/plain": [
       "SVC()"
      ]
     },
     "execution_count": 68,
     "metadata": {},
     "output_type": "execute_result"
    }
   ],
   "source": [
    "clf_svm  = SVC()\n",
    "clf_svm.fit(x_train_scaled, y_train)"
   ]
  },
  {
   "cell_type": "code",
   "execution_count": 69,
   "metadata": {},
   "outputs": [
    {
     "name": "stderr",
     "output_type": "stream",
     "text": [
      "c:\\Users\\kumar\\OneDrive\\Documents\\Github\\playground\\playground\\lib\\site-packages\\sklearn\\utils\\deprecation.py:87: FutureWarning: Function plot_confusion_matrix is deprecated; Function `plot_confusion_matrix` is deprecated in 1.0 and will be removed in 1.2. Use one of the class methods: ConfusionMatrixDisplay.from_predictions or ConfusionMatrixDisplay.from_estimator.\n",
      "  warnings.warn(msg, category=FutureWarning)\n"
     ]
    },
    {
     "data": {
      "text/plain": [
       "<sklearn.metrics._plot.confusion_matrix.ConfusionMatrixDisplay at 0x1a9d5f859c0>"
      ]
     },
     "execution_count": 69,
     "metadata": {},
     "output_type": "execute_result"
    },
    {
     "data": {
      "image/png": "[encoded data removed]",
      "text/plain": [
       "<Figure size 432x288 with 2 Axes>"
      ]
     },
     "metadata": {
      "needs_background": "light"
     },
     "output_type": "display_data"
    }
   ],
   "source": [
    "plot_confusion_matrix(clf_svm,x_test_scaled,y_test,display_labels=[\"Sell\",\"Buy\"])"
   ]
  }
 ],
 "metadata": {
  "kernelspec": {
   "display_name": "Python 3.10.4 ('playground': venv)",
   "language": "python",
   "name": "python3"
  },
  "language_info": {
   "codemirror_mode": {
    "name": "ipython",
    "version": 3
   },
   "file_extension": ".py",
   "mimetype": "text/x-python",
   "name": "python",
   "nbconvert_exporter": "python",
   "pygments_lexer": "ipython3",
   "version": "3.10.4"
  },
  "orig_nbformat": 4,
  "vscode": {
   "interpreter": {
    "hash": "7710f62f2ac1c17bb2681636ee2c934f93af0e42e323e6b45980495af4605af9"
   }
  }
 },
 "nbformat": 4,
 "nbformat_minor": 2
}
